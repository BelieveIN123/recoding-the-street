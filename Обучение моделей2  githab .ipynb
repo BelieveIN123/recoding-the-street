{
 "cells": [
  {
   "cell_type": "code",
   "execution_count": 1,
   "id": "c157cfba",
   "metadata": {},
   "outputs": [],
   "source": [
    "import pandas as pd\n",
    "from sklearn.linear_model import LogisticRegression\n",
    "from sklearn.model_selection import train_test_split\n",
    "import numpy as np\n",
    "\n",
    "from sklearn.naive_bayes import MultinomialNB\n",
    "from sklearn.pipeline import Pipeline\n",
    "from sklearn.feature_extraction.text import TfidfTransformer\n",
    "from sklearn.feature_extraction.text import CountVectorizer\n",
    "from sklearn.metrics import accuracy_score\n",
    "from sklearn.feature_extraction.text import HashingVectorizer\n",
    "\n",
    "\n",
    "from tqdm.auto import tqdm, trange"
   ]
  },
  {
   "cell_type": "markdown",
   "id": "ad96e56e",
   "metadata": {},
   "source": [
    "# Считываю дф улиц. добавляю дф с двумя столбцами"
   ]
  },
  {
   "cell_type": "code",
   "execution_count": 3,
   "id": "5cc221d5",
   "metadata": {},
   "outputs": [],
   "source": [
    "test_df_two_col = pd.read_excel('clear drop nan sh+city and sh + streat + type.xlsx')"
   ]
  },
  {
   "cell_type": "code",
   "execution_count": 4,
   "id": "34ebe2cb",
   "metadata": {},
   "outputs": [
    {
     "data": {
      "text/html": [
       "<div>\n",
       "<style scoped>\n",
       "    .dataframe tbody tr th:only-of-type {\n",
       "        vertical-align: middle;\n",
       "    }\n",
       "\n",
       "    .dataframe tbody tr th {\n",
       "        vertical-align: top;\n",
       "    }\n",
       "\n",
       "    .dataframe thead th {\n",
       "        text-align: right;\n",
       "    }\n",
       "</style>\n",
       "<table border=\"1\" class=\"dataframe\">\n",
       "  <thead>\n",
       "    <tr style=\"text-align: right;\">\n",
       "      <th></th>\n",
       "      <th>concat_name</th>\n",
       "      <th>type</th>\n",
       "      <th>S6_ID_str</th>\n",
       "    </tr>\n",
       "  </thead>\n",
       "  <tbody>\n",
       "    <tr>\n",
       "      <th>0</th>\n",
       "      <td>автодорога екад пр-кт академика сахарова</td>\n",
       "      <td>автодорога екад пр-кт академика сахарова</td>\n",
       "      <td>838</td>\n",
       "    </tr>\n",
       "    <tr>\n",
       "      <th>1</th>\n",
       "      <td>автодорога екад ул гоголя</td>\n",
       "      <td>автодорога екад ул гоголя</td>\n",
       "      <td>40452</td>\n",
       "    </tr>\n",
       "    <tr>\n",
       "      <th>2</th>\n",
       "      <td>автодорога екад ул курганская</td>\n",
       "      <td>автодорога екад ул курганская</td>\n",
       "      <td>25047</td>\n",
       "    </tr>\n",
       "    <tr>\n",
       "      <th>3</th>\n",
       "      <td>автодорога екад ул уральских рабочих</td>\n",
       "      <td>автодорога екад ул уральских рабочих</td>\n",
       "      <td>40453</td>\n",
       "    </tr>\n",
       "    <tr>\n",
       "      <th>4</th>\n",
       "      <td>автодорога екад ул чайковского</td>\n",
       "      <td>автодорога екад ул чайковского</td>\n",
       "      <td>40454</td>\n",
       "    </tr>\n",
       "    <tr>\n",
       "      <th>5</th>\n",
       "      <td>автодорога екад ул черепанова</td>\n",
       "      <td>автодорога екад ул черепанова</td>\n",
       "      <td>25514</td>\n",
       "    </tr>\n",
       "    <tr>\n",
       "      <th>6</th>\n",
       "      <td>автодорога екад ул эскадронная</td>\n",
       "      <td>автодорога екад ул эскадронная</td>\n",
       "      <td>40455</td>\n",
       "    </tr>\n",
       "    <tr>\n",
       "      <th>7</th>\n",
       "      <td>автодорога екатеринбург - аэропорт кольцово пе...</td>\n",
       "      <td>автодорога екатеринбург - аэропорт кольцово пе...</td>\n",
       "      <td>40459</td>\n",
       "    </tr>\n",
       "    <tr>\n",
       "      <th>8</th>\n",
       "      <td>автодорога екатеринбург - аэропорт кольцово ул...</td>\n",
       "      <td>автодорога екатеринбург - аэропорт кольцово ул...</td>\n",
       "      <td>40456</td>\n",
       "    </tr>\n",
       "    <tr>\n",
       "      <th>9</th>\n",
       "      <td>автодорога екатеринбург - аэропорт кольцово ул...</td>\n",
       "      <td>автодорога екатеринбург - аэропорт кольцово ул...</td>\n",
       "      <td>40457</td>\n",
       "    </tr>\n",
       "  </tbody>\n",
       "</table>\n",
       "</div>"
      ],
      "text/plain": [
       "                                         concat_name  \\\n",
       "0           автодорога екад пр-кт академика сахарова   \n",
       "1                          автодорога екад ул гоголя   \n",
       "2                      автодорога екад ул курганская   \n",
       "3               автодорога екад ул уральских рабочих   \n",
       "4                     автодорога екад ул чайковского   \n",
       "5                      автодорога екад ул черепанова   \n",
       "6                     автодорога екад ул эскадронная   \n",
       "7  автодорога екатеринбург - аэропорт кольцово пе...   \n",
       "8  автодорога екатеринбург - аэропорт кольцово ул...   \n",
       "9  автодорога екатеринбург - аэропорт кольцово ул...   \n",
       "\n",
       "                                                type S6_ID_str  \n",
       "0           автодорога екад пр-кт академика сахарова       838  \n",
       "1                          автодорога екад ул гоголя     40452  \n",
       "2                      автодорога екад ул курганская     25047  \n",
       "3               автодорога екад ул уральских рабочих     40453  \n",
       "4                     автодорога екад ул чайковского     40454  \n",
       "5                      автодорога екад ул черепанова     25514  \n",
       "6                     автодорога екад ул эскадронная     40455  \n",
       "7  автодорога екатеринбург - аэропорт кольцово пе...     40459  \n",
       "8  автодорога екатеринбург - аэропорт кольцово ул...     40456  \n",
       "9  автодорога екатеринбург - аэропорт кольцово ул...     40457  "
      ]
     },
     "execution_count": 4,
     "metadata": {},
     "output_type": "execute_result"
    }
   ],
   "source": [
    "test_df_two_col.head(10)"
   ]
  },
  {
   "cell_type": "code",
   "execution_count": 11,
   "id": "5c1952fe",
   "metadata": {},
   "outputs": [],
   "source": [
    "X = test_df_two_col['concat_name']\n",
    "y = test_df_two_col['type'] + '++' +test_df_two_col['S6_ID_str']\n",
    "# Добавляю сразу S6 чтобы после не перепутать какое название в какому ID относится"
   ]
  },
  {
   "cell_type": "code",
   "execution_count": 12,
   "id": "4fad15d4",
   "metadata": {},
   "outputs": [
    {
     "data": {
      "text/plain": [
       "0        автодорога екад пр-кт академика сахарова++838\n",
       "1                     автодорога екад ул гоголя++40452\n",
       "2                 автодорога екад ул курганская++25047\n",
       "3          автодорога екад ул уральских рабочих++40453\n",
       "4                автодорога екад ул чайковского++40454\n",
       "                             ...                      \n",
       "31264                  х николаев ул набережная++18396\n",
       "31265            х новосергиевка ул центральная++14410\n",
       "31266                     х петровка ул полевая++16842\n",
       "31267               х расстригин ул центральная++41268\n",
       "31268                   х тупилкин ул береговая++13684\n",
       "Length: 31269, dtype: object"
      ]
     },
     "execution_count": 12,
     "metadata": {},
     "output_type": "execute_result"
    }
   ],
   "source": [
    "y"
   ]
  },
  {
   "cell_type": "markdown",
   "id": "c61f7f49",
   "metadata": {},
   "source": [
    "# Добавляю тестовую выборку"
   ]
  },
  {
   "cell_type": "markdown",
   "id": "264a84ae",
   "metadata": {},
   "source": [
    "## Данные на которых я обучал ранее"
   ]
  },
  {
   "cell_type": "code",
   "execution_count": 3,
   "id": "ba81499a",
   "metadata": {},
   "outputs": [],
   "source": [
    "df_test_clear = pd.read_excel('test_clean_num_empty_07.06.xlsx')"
   ]
  },
  {
   "cell_type": "code",
   "execution_count": 13,
   "id": "4d055490",
   "metadata": {},
   "outputs": [
    {
     "data": {
      "text/plain": [
       "(60624, 4)"
      ]
     },
     "execution_count": 13,
     "metadata": {},
     "output_type": "execute_result"
    }
   ],
   "source": [
    "df_test_clear.shape"
   ]
  },
  {
   "cell_type": "code",
   "execution_count": 6,
   "id": "49766e5e",
   "metadata": {},
   "outputs": [],
   "source": [
    "df_test_clear['test_concat'] = df_test_clear['NASP_cler'] + ' ' + df_test_clear['ULIC_cler']"
   ]
  },
  {
   "cell_type": "code",
   "execution_count": 7,
   "id": "3b3ea6c1",
   "metadata": {},
   "outputs": [],
   "source": [
    "df_test_clear.dropna().to_excel('test_clean_num_empty_dropna_11.06 .xlsx')"
   ]
  },
  {
   "cell_type": "code",
   "execution_count": 14,
   "id": "5444e7b6",
   "metadata": {},
   "outputs": [
    {
     "data": {
      "text/html": [
       "<div>\n",
       "<style scoped>\n",
       "    .dataframe tbody tr th:only-of-type {\n",
       "        vertical-align: middle;\n",
       "    }\n",
       "\n",
       "    .dataframe tbody tr th {\n",
       "        vertical-align: top;\n",
       "    }\n",
       "\n",
       "    .dataframe thead th {\n",
       "        text-align: right;\n",
       "    }\n",
       "</style>\n",
       "<table border=\"1\" class=\"dataframe\">\n",
       "  <thead>\n",
       "    <tr style=\"text-align: right;\">\n",
       "      <th></th>\n",
       "      <th>NASP_cler</th>\n",
       "      <th>ULIC_cler</th>\n",
       "      <th>ID</th>\n",
       "      <th>test_concat</th>\n",
       "    </tr>\n",
       "  </thead>\n",
       "  <tbody>\n",
       "    <tr>\n",
       "      <th>0</th>\n",
       "      <td>штат техас</td>\n",
       "      <td>драйв кингфишер</td>\n",
       "      <td>3093</td>\n",
       "      <td>штат техас драйв кингфишер</td>\n",
       "    </tr>\n",
       "    <tr>\n",
       "      <th>1</th>\n",
       "      <td>обл московская</td>\n",
       "      <td>коломийца</td>\n",
       "      <td>3094</td>\n",
       "      <td>обл московская коломийца</td>\n",
       "    </tr>\n",
       "    <tr>\n",
       "      <th>2</th>\n",
       "      <td>германия</td>\n",
       "      <td>нолдеринг</td>\n",
       "      <td>3117</td>\n",
       "      <td>германия нолдеринг</td>\n",
       "    </tr>\n",
       "    <tr>\n",
       "      <th>3</th>\n",
       "      <td>обл курганская</td>\n",
       "      <td>ул савельева</td>\n",
       "      <td>3844</td>\n",
       "      <td>обл курганская ул савельева</td>\n",
       "    </tr>\n",
       "    <tr>\n",
       "      <th>4</th>\n",
       "      <td>хмао-югра</td>\n",
       "      <td>район упр-2</td>\n",
       "      <td>7370</td>\n",
       "      <td>хмао-югра район упр-2</td>\n",
       "    </tr>\n",
       "    <tr>\n",
       "      <th>...</th>\n",
       "      <td>...</td>\n",
       "      <td>...</td>\n",
       "      <td>...</td>\n",
       "      <td>...</td>\n",
       "    </tr>\n",
       "    <tr>\n",
       "      <th>60619</th>\n",
       "      <td>область свердловская</td>\n",
       "      <td>ул заславского</td>\n",
       "      <td>23223</td>\n",
       "      <td>область свердловская ул заславского</td>\n",
       "    </tr>\n",
       "    <tr>\n",
       "      <th>60620</th>\n",
       "      <td>г серов</td>\n",
       "      <td>ул заславского</td>\n",
       "      <td>35101</td>\n",
       "      <td>г серов ул заславского</td>\n",
       "    </tr>\n",
       "    <tr>\n",
       "      <th>60621</th>\n",
       "      <td>область свердловская</td>\n",
       "      <td>ул заславского</td>\n",
       "      <td>35102</td>\n",
       "      <td>область свердловская ул заславского</td>\n",
       "    </tr>\n",
       "    <tr>\n",
       "      <th>60622</th>\n",
       "      <td>серов</td>\n",
       "      <td>заславского</td>\n",
       "      <td>40513</td>\n",
       "      <td>серов заславского</td>\n",
       "    </tr>\n",
       "    <tr>\n",
       "      <th>60623</th>\n",
       "      <td>серов</td>\n",
       "      <td>заславского</td>\n",
       "      <td>40681</td>\n",
       "      <td>серов заславского</td>\n",
       "    </tr>\n",
       "  </tbody>\n",
       "</table>\n",
       "<p>60624 rows × 4 columns</p>\n",
       "</div>"
      ],
      "text/plain": [
       "                  NASP_cler        ULIC_cler     ID  \\\n",
       "0                штат техас  драйв кингфишер   3093   \n",
       "1            обл московская        коломийца   3094   \n",
       "2                  германия        нолдеринг   3117   \n",
       "3            обл курганская     ул савельева   3844   \n",
       "4                 хмао-югра      район упр-2   7370   \n",
       "...                     ...              ...    ...   \n",
       "60619  область свердловская   ул заславского  23223   \n",
       "60620               г серов   ул заславского  35101   \n",
       "60621  область свердловская   ул заславского  35102   \n",
       "60622                 серов      заславского  40513   \n",
       "60623                 серов      заславского  40681   \n",
       "\n",
       "                               test_concat  \n",
       "0               штат техас драйв кингфишер  \n",
       "1                 обл московская коломийца  \n",
       "2                       германия нолдеринг  \n",
       "3              обл курганская ул савельева  \n",
       "4                    хмао-югра район упр-2  \n",
       "...                                    ...  \n",
       "60619  область свердловская ул заславского  \n",
       "60620               г серов ул заславского  \n",
       "60621  область свердловская ул заславского  \n",
       "60622                    серов заславского  \n",
       "60623                    серов заславского  \n",
       "\n",
       "[60624 rows x 4 columns]"
      ]
     },
     "execution_count": 14,
     "metadata": {},
     "output_type": "execute_result"
    }
   ],
   "source": [
    "df_test_clear"
   ]
  },
  {
   "cell_type": "markdown",
   "id": "131c198b",
   "metadata": {},
   "source": [
    "## Данные с заменой \"свердловской области\" на \"Екатеринбург\" "
   ]
  },
  {
   "cell_type": "code",
   "execution_count": 31,
   "id": "22015a77",
   "metadata": {},
   "outputs": [],
   "source": [
    "df_test_clear = pd.read_excel('test_clean_num_empty_09.06 с заменой сверд. обл. на екатеринбург .xlsx')"
   ]
  },
  {
   "cell_type": "code",
   "execution_count": 32,
   "id": "aefab644",
   "metadata": {},
   "outputs": [],
   "source": [
    "df_test_clear['test_concat'] = df_test_clear['NASP_cler'] + ' ' + df_test_clear['ULIC_cler']"
   ]
  },
  {
   "cell_type": "code",
   "execution_count": 33,
   "id": "e38c5df6",
   "metadata": {},
   "outputs": [],
   "source": [
    "test_srt_concat = df_test_clear['test_concat']"
   ]
  },
  {
   "cell_type": "code",
   "execution_count": 36,
   "id": "f679b761",
   "metadata": {},
   "outputs": [],
   "source": [
    "df_test_clear.to_excel('test_clean_num_empty_09.06 с заменой сверд. обл. на екатеринбург .xlsx')"
   ]
  },
  {
   "cell_type": "code",
   "execution_count": 25,
   "id": "c20bcf70",
   "metadata": {},
   "outputs": [],
   "source": [
    "test_srt_concat = test_srt_concat.dropna()"
   ]
  },
  {
   "cell_type": "code",
   "execution_count": 26,
   "id": "0646382d",
   "metadata": {},
   "outputs": [
    {
     "data": {
      "text/plain": [
       "(60596,)"
      ]
     },
     "execution_count": 26,
     "metadata": {},
     "output_type": "execute_result"
    }
   ],
   "source": [
    "test_srt_concat.shape"
   ]
  },
  {
   "cell_type": "code",
   "execution_count": 27,
   "id": "b01e1a58",
   "metadata": {},
   "outputs": [],
   "source": [
    "test_srt_concat_1 = test_srt_concat[:30000]\n",
    "test_srt_concat_2 = test_srt_concat[30000:]"
   ]
  },
  {
   "cell_type": "markdown",
   "id": "6c9ba0fe",
   "metadata": {},
   "source": [
    "# Naive Bayes Classifier"
   ]
  },
  {
   "cell_type": "markdown",
   "id": "0b725311",
   "metadata": {},
   "source": [
    "Naive Bayes Classifier"
   ]
  },
  {
   "cell_type": "code",
   "execution_count": 12,
   "id": "21956fab",
   "metadata": {},
   "outputs": [],
   "source": [
    "from sklearn.naive_bayes import MultinomialNB\n",
    "from sklearn.pipeline import Pipeline\n",
    "from sklearn.feature_extraction.text import TfidfTransformer\n",
    "from sklearn.feature_extraction.text import CountVectorizer"
   ]
  },
  {
   "cell_type": "markdown",
   "id": "694da625",
   "metadata": {},
   "source": [
    "## Рабочий вариант. 90% точность  "
   ]
  },
  {
   "cell_type": "code",
   "execution_count": 12,
   "id": "6790186f",
   "metadata": {
    "code_folding": []
   },
   "outputs": [],
   "source": [
    "nb = Pipeline([('vect', CountVectorizer(analyzer='char', ngram_range=(3, 4))),\n",
    "#                ('tfidf', TfidfTransformer()),\n",
    "               ('clf', MultinomialNB()),\n",
    "              ])"
   ]
  },
  {
   "cell_type": "code",
   "execution_count": null,
   "id": "f694c530",
   "metadata": {},
   "outputs": [],
   "source": [
    "%%time\n",
    "nb.fit(X, y)"
   ]
  },
  {
   "cell_type": "markdown",
   "id": "edd16118",
   "metadata": {},
   "source": [
    "Первая часть предсказанных данных"
   ]
  },
  {
   "cell_type": "code",
   "execution_count": 14,
   "id": "f6213433",
   "metadata": {},
   "outputs": [],
   "source": [
    "y_pred = nb.predict(test_srt_concat_1)"
   ]
  },
  {
   "cell_type": "code",
   "execution_count": 15,
   "id": "dbf5063a",
   "metadata": {},
   "outputs": [],
   "source": [
    "probability_pred_1 = pd.DataFrame(nb.predict_proba(test_srt_concat_1)).max(axis=1)"
   ]
  },
  {
   "cell_type": "code",
   "execution_count": 16,
   "id": "d5ee8666",
   "metadata": {},
   "outputs": [],
   "source": [
    "# probability_pred = pd.DataFrame(y_pred_proba).max(axis=1)"
   ]
  },
  {
   "cell_type": "code",
   "execution_count": 17,
   "id": "d01bd4c1",
   "metadata": {},
   "outputs": [],
   "source": [
    "pred_df = pd.DataFrame(test_srt_concat_1).reset_index(drop=True)"
   ]
  },
  {
   "cell_type": "code",
   "execution_count": 18,
   "id": "b32ebc75",
   "metadata": {},
   "outputs": [],
   "source": [
    "pred_df['pred'] = y_pred"
   ]
  },
  {
   "cell_type": "code",
   "execution_count": 19,
   "id": "818a5e0d",
   "metadata": {},
   "outputs": [],
   "source": [
    "pred_df = pred_df.reset_index(drop=True)"
   ]
  },
  {
   "cell_type": "code",
   "execution_count": 20,
   "id": "56eeab98",
   "metadata": {},
   "outputs": [],
   "source": [
    "pred_df['probability'] = probability_pred_1"
   ]
  },
  {
   "cell_type": "code",
   "execution_count": 28,
   "id": "92bdf1a4",
   "metadata": {},
   "outputs": [],
   "source": [
    "pred_df.to_excel('MultinomialNB probability all1 data analyzer=char, ngram_range=(3, 4).xlsx')"
   ]
  },
  {
   "cell_type": "markdown",
   "id": "8e454692",
   "metadata": {},
   "source": [
    "Вторая часть предсказанных данных"
   ]
  },
  {
   "cell_type": "code",
   "execution_count": 21,
   "id": "db28d16c",
   "metadata": {},
   "outputs": [],
   "source": [
    "y_pred = nb.predict(test_srt_concat_2)"
   ]
  },
  {
   "cell_type": "code",
   "execution_count": 22,
   "id": "f6dcea38",
   "metadata": {},
   "outputs": [],
   "source": [
    "probability_pred_1 = pd.DataFrame(nb.predict_proba(test_srt_concat_2)).max(axis=1)"
   ]
  },
  {
   "cell_type": "code",
   "execution_count": 23,
   "id": "66953c7f",
   "metadata": {},
   "outputs": [],
   "source": [
    "pred_df_2 = pd.DataFrame(test_srt_concat_2).reset_index(drop=True)"
   ]
  },
  {
   "cell_type": "code",
   "execution_count": 24,
   "id": "1c0b3b50",
   "metadata": {},
   "outputs": [],
   "source": [
    "pred_df_2['pred'] = y_pred"
   ]
  },
  {
   "cell_type": "code",
   "execution_count": 25,
   "id": "6f5fad63",
   "metadata": {},
   "outputs": [],
   "source": [
    "pred_df_2 = pred_df_2.reset_index(drop=True)"
   ]
  },
  {
   "cell_type": "code",
   "execution_count": 26,
   "id": "2710fda4",
   "metadata": {},
   "outputs": [],
   "source": [
    "pred_df_2['probability'] = probability_pred_1"
   ]
  },
  {
   "cell_type": "code",
   "execution_count": 27,
   "id": "adb6f5a1",
   "metadata": {},
   "outputs": [
    {
     "data": {
      "text/html": [
       "<div>\n",
       "<style scoped>\n",
       "    .dataframe tbody tr th:only-of-type {\n",
       "        vertical-align: middle;\n",
       "    }\n",
       "\n",
       "    .dataframe tbody tr th {\n",
       "        vertical-align: top;\n",
       "    }\n",
       "\n",
       "    .dataframe thead th {\n",
       "        text-align: right;\n",
       "    }\n",
       "</style>\n",
       "<table border=\"1\" class=\"dataframe\">\n",
       "  <thead>\n",
       "    <tr style=\"text-align: right;\">\n",
       "      <th></th>\n",
       "      <th>test_concat</th>\n",
       "      <th>pred</th>\n",
       "      <th>probability</th>\n",
       "    </tr>\n",
       "  </thead>\n",
       "  <tbody>\n",
       "    <tr>\n",
       "      <th>0</th>\n",
       "      <td>г первоуральск ул прокатчиков</td>\n",
       "      <td>г первоуральск ул прокатчиков++10819</td>\n",
       "      <td>0.999805</td>\n",
       "    </tr>\n",
       "    <tr>\n",
       "      <th>1</th>\n",
       "      <td>г первоуральск ул прокатчиков</td>\n",
       "      <td>г первоуральск ул прокатчиков++10819</td>\n",
       "      <td>0.999805</td>\n",
       "    </tr>\n",
       "    <tr>\n",
       "      <th>2</th>\n",
       "      <td>область свердловская прокатчиков</td>\n",
       "      <td>обл свердловская ул хохрякова++10232</td>\n",
       "      <td>0.478208</td>\n",
       "    </tr>\n",
       "    <tr>\n",
       "      <th>3</th>\n",
       "      <td>п арти прокопенко</td>\n",
       "      <td>рп арти ул прокопенко++5769</td>\n",
       "      <td>0.997621</td>\n",
       "    </tr>\n",
       "    <tr>\n",
       "      <th>4</th>\n",
       "      <td>рп арти ул прокопенко</td>\n",
       "      <td>рп арти ул прокопенко++5769</td>\n",
       "      <td>0.999697</td>\n",
       "    </tr>\n",
       "    <tr>\n",
       "      <th>...</th>\n",
       "      <td>...</td>\n",
       "      <td>...</td>\n",
       "      <td>...</td>\n",
       "    </tr>\n",
       "    <tr>\n",
       "      <th>30591</th>\n",
       "      <td>область свердловская ул заславского</td>\n",
       "      <td>обл свердловская ул хохрякова++10232</td>\n",
       "      <td>0.690039</td>\n",
       "    </tr>\n",
       "    <tr>\n",
       "      <th>30592</th>\n",
       "      <td>г серов ул заславского</td>\n",
       "      <td>г серов ул заславского++10030</td>\n",
       "      <td>0.999497</td>\n",
       "    </tr>\n",
       "    <tr>\n",
       "      <th>30593</th>\n",
       "      <td>область свердловская ул заславского</td>\n",
       "      <td>обл свердловская ул хохрякова++10232</td>\n",
       "      <td>0.690039</td>\n",
       "    </tr>\n",
       "    <tr>\n",
       "      <th>30594</th>\n",
       "      <td>серов заславского</td>\n",
       "      <td>г серов ул заславского++10030</td>\n",
       "      <td>0.984877</td>\n",
       "    </tr>\n",
       "    <tr>\n",
       "      <th>30595</th>\n",
       "      <td>серов заславского</td>\n",
       "      <td>г серов ул заславского++10030</td>\n",
       "      <td>0.984877</td>\n",
       "    </tr>\n",
       "  </tbody>\n",
       "</table>\n",
       "<p>30596 rows × 3 columns</p>\n",
       "</div>"
      ],
      "text/plain": [
       "                               test_concat  \\\n",
       "0            г первоуральск ул прокатчиков   \n",
       "1            г первоуральск ул прокатчиков   \n",
       "2         область свердловская прокатчиков   \n",
       "3                        п арти прокопенко   \n",
       "4                    рп арти ул прокопенко   \n",
       "...                                    ...   \n",
       "30591  область свердловская ул заславского   \n",
       "30592               г серов ул заславского   \n",
       "30593  область свердловская ул заславского   \n",
       "30594                    серов заславского   \n",
       "30595                    серов заславского   \n",
       "\n",
       "                                       pred  probability  \n",
       "0      г первоуральск ул прокатчиков++10819     0.999805  \n",
       "1      г первоуральск ул прокатчиков++10819     0.999805  \n",
       "2      обл свердловская ул хохрякова++10232     0.478208  \n",
       "3               рп арти ул прокопенко++5769     0.997621  \n",
       "4               рп арти ул прокопенко++5769     0.999697  \n",
       "...                                     ...          ...  \n",
       "30591  обл свердловская ул хохрякова++10232     0.690039  \n",
       "30592         г серов ул заславского++10030     0.999497  \n",
       "30593  обл свердловская ул хохрякова++10232     0.690039  \n",
       "30594         г серов ул заславского++10030     0.984877  \n",
       "30595         г серов ул заславского++10030     0.984877  \n",
       "\n",
       "[30596 rows x 3 columns]"
      ]
     },
     "execution_count": 27,
     "metadata": {},
     "output_type": "execute_result"
    }
   ],
   "source": [
    "pred_df_2"
   ]
  },
  {
   "cell_type": "code",
   "execution_count": 28,
   "id": "96f4e372",
   "metadata": {},
   "outputs": [],
   "source": [
    "pd.concat([pred_df, pred_df_2]).to_excel('MultinomialNB probability all data analyzer=char, ngram_range=(3, 4).xlsx')"
   ]
  },
  {
   "cell_type": "markdown",
   "id": "a5c446d3",
   "metadata": {},
   "source": [
    "## Рабочий вариант 95% точность. Попытка 2"
   ]
  },
  {
   "cell_type": "code",
   "execution_count": 14,
   "id": "fb52603f",
   "metadata": {},
   "outputs": [],
   "source": [
    "nb = Pipeline([('vect', CountVectorizer(analyzer='char', ngram_range=(3, 4), binary = True)),\n",
    "#                ('tfidf', TfidfTransformer()),\n",
    "               ('clf', MultinomialNB()),\n",
    "              ])"
   ]
  },
  {
   "cell_type": "code",
   "execution_count": 15,
   "id": "27d166a7",
   "metadata": {},
   "outputs": [
    {
     "name": "stdout",
     "output_type": "stream",
     "text": [
      "Wall time: 1min 37s\n"
     ]
    },
    {
     "data": {
      "text/plain": [
       "Pipeline(steps=[('vect',\n",
       "                 CountVectorizer(analyzer='char', binary=True,\n",
       "                                 ngram_range=(3, 4))),\n",
       "                ('clf', MultinomialNB())])"
      ]
     },
     "execution_count": 15,
     "metadata": {},
     "output_type": "execute_result"
    }
   ],
   "source": [
    "%%time\n",
    "nb.fit(X, y)"
   ]
  },
  {
   "cell_type": "code",
   "execution_count": null,
   "id": "ad25a3c3",
   "metadata": {},
   "outputs": [],
   "source": []
  },
  {
   "cell_type": "code",
   "execution_count": 18,
   "id": "7d86cc48",
   "metadata": {},
   "outputs": [],
   "source": [
    "y_pred = nb.predict(test_srt_concat_1)\n",
    "\n",
    "probability_pred_1 = pd.DataFrame(nb.predict_proba(test_srt_concat_1)).max(axis=1)\n",
    "\n",
    "pred_df = pd.DataFrame(test_srt_concat_1).reset_index(drop=True)\n",
    "\n",
    "pred_df['pred'] = y_pred\n",
    "\n",
    "pred_df = pred_df.reset_index(drop=True)\n",
    "\n",
    "pred_df['probability'] = probability_pred_1\n",
    "\n",
    "# Вторая часть предсказанных данных\n",
    "\n",
    "y_pred = nb.predict(test_srt_concat_2)\n",
    "\n",
    "probability_pred_1 = pd.DataFrame(nb.predict_proba(test_srt_concat_2)).max(axis=1)\n",
    "\n",
    "pred_df_2 = pd.DataFrame(test_srt_concat_2).reset_index(drop=True)\n",
    "\n",
    "pred_df_2['pred'] = y_pred\n",
    "\n",
    "pred_df_2 = pred_df_2.reset_index(drop=True)\n",
    "\n",
    "pred_df_2['probability'] = probability_pred_1"
   ]
  },
  {
   "cell_type": "code",
   "execution_count": 19,
   "id": "71fc80a1",
   "metadata": {},
   "outputs": [],
   "source": [
    "pd.concat([pred_df, pred_df_2]).to_excel('MultinomialNB probability all + замена обл.  analyzer=char, ngram_range=(3, 4).xlsx')"
   ]
  },
  {
   "cell_type": "markdown",
   "id": "fd2aa8c5",
   "metadata": {},
   "source": [
    "## Попытка 3 BernoulliNB"
   ]
  },
  {
   "cell_type": "code",
   "execution_count": 12,
   "id": "b7dabfc7",
   "metadata": {},
   "outputs": [],
   "source": [
    "from sklearn.naive_bayes import BernoulliNB\n",
    "\n",
    "bern = Pipeline([('vect', CountVectorizer(analyzer='char', ngram_range=(3, 4), binary = True)),\n",
    "#                 ('tfidf', TfidfTransformer()),\n",
    "                ('clf', BernoulliNB()),\n",
    "               ])"
   ]
  },
  {
   "cell_type": "code",
   "execution_count": 13,
   "id": "7576b961",
   "metadata": {},
   "outputs": [
    {
     "name": "stdout",
     "output_type": "stream",
     "text": [
      "Wall time: 1min 32s\n"
     ]
    },
    {
     "data": {
      "text/plain": [
       "Pipeline(steps=[('vect',\n",
       "                 CountVectorizer(analyzer='char', binary=True,\n",
       "                                 ngram_range=(3, 4))),\n",
       "                ('clf', BernoulliNB())])"
      ]
     },
     "execution_count": 13,
     "metadata": {},
     "output_type": "execute_result"
    }
   ],
   "source": [
    "%%time\n",
    "bern.fit(X, y)"
   ]
  },
  {
   "cell_type": "code",
   "execution_count": 14,
   "id": "8d30525d",
   "metadata": {},
   "outputs": [],
   "source": [
    "y_pred = bern.predict(test_srt_concat_1)\n",
    "\n",
    "probability_pred_1 = pd.DataFrame(bern.predict_proba(test_srt_concat_1)).max(axis=1)\n",
    "\n",
    "pred_df = pd.DataFrame(test_srt_concat_1).reset_index(drop=True)\n",
    "\n",
    "pred_df['pred'] = y_pred\n",
    "\n",
    "pred_df = pred_df.reset_index(drop=True)\n",
    "\n",
    "pred_df['probability'] = probability_pred_1\n",
    "\n",
    "# Вторая часть предсказанных данных\n",
    "\n",
    "y_pred = bern.predict(test_srt_concat_2)\n",
    "\n",
    "probability_pred_1 = pd.DataFrame(bern.predict_proba(test_srt_concat_2)).max(axis=1)\n",
    "\n",
    "pred_df_2 = pd.DataFrame(test_srt_concat_2).reset_index(drop=True)\n",
    "\n",
    "pred_df_2['pred'] = y_pred\n",
    "\n",
    "pred_df_2 = pred_df_2.reset_index(drop=True)\n",
    "\n",
    "pred_df_2['probability'] = probability_pred_1"
   ]
  },
  {
   "cell_type": "code",
   "execution_count": 15,
   "id": "e10675a7",
   "metadata": {},
   "outputs": [],
   "source": [
    "pd.concat([pred_df, pred_df_2]).to_excel('BernoulliNB probability all data analyzer=char, ngram_range=(3, 4).xlsx')"
   ]
  },
  {
   "cell_type": "code",
   "execution_count": null,
   "id": "3b2190b4",
   "metadata": {},
   "outputs": [],
   "source": [
    "сохранил"
   ]
  },
  {
   "cell_type": "markdown",
   "id": "c0dcd95e",
   "metadata": {},
   "source": [
    "## Попытка 4 ngram_range=(2, 3)"
   ]
  },
  {
   "cell_type": "code",
   "execution_count": 18,
   "id": "38a75668",
   "metadata": {},
   "outputs": [],
   "source": [
    "nb = Pipeline([('vect', CountVectorizer(analyzer='char', ngram_range=(2, 3), binary = True)),\n",
    "#                ('tfidf', TfidfTransformer()),\n",
    "               ('clf', MultinomialNB()),\n",
    "              ])"
   ]
  },
  {
   "cell_type": "code",
   "execution_count": 19,
   "id": "7718f2ce",
   "metadata": {},
   "outputs": [
    {
     "name": "stdout",
     "output_type": "stream",
     "text": [
      "Wall time: 1min 5s\n"
     ]
    },
    {
     "data": {
      "text/plain": [
       "Pipeline(steps=[('vect',\n",
       "                 CountVectorizer(analyzer='char', binary=True,\n",
       "                                 ngram_range=(2, 3))),\n",
       "                ('clf', MultinomialNB())])"
      ]
     },
     "execution_count": 19,
     "metadata": {},
     "output_type": "execute_result"
    }
   ],
   "source": [
    "%%time\n",
    "nb.fit(X, y)"
   ]
  },
  {
   "cell_type": "code",
   "execution_count": 28,
   "id": "17bed0f5",
   "metadata": {},
   "outputs": [],
   "source": [
    "y_pred = nb.predict(test_srt_concat_1)\n",
    "\n",
    "probability_pred_1 = pd.DataFrame(nb.predict_proba(test_srt_concat_1)).max(axis=1)\n",
    "\n",
    "pred_df = pd.DataFrame(test_srt_concat_1).reset_index(drop=True)\n",
    "\n",
    "pred_df['pred'] = y_pred\n",
    "\n",
    "pred_df = pred_df.reset_index(drop=True)\n",
    "\n",
    "pred_df['probability'] = probability_pred_1\n",
    "\n",
    "# Вторая часть предсказанных данных\n",
    "\n",
    "y_pred = nb.predict(test_srt_concat_2)\n",
    "\n",
    "probability_pred_1 = pd.DataFrame(nb.predict_proba(test_srt_concat_2)).max(axis=1)\n",
    "\n",
    "pred_df_2 = pd.DataFrame(test_srt_concat_2).reset_index(drop=True)\n",
    "\n",
    "pred_df_2['pred'] = y_pred\n",
    "\n",
    "pred_df_2 = pred_df_2.reset_index(drop=True)\n",
    "\n",
    "pred_df_2['probability'] = probability_pred_1"
   ]
  },
  {
   "cell_type": "code",
   "execution_count": 29,
   "id": "fe752d38",
   "metadata": {},
   "outputs": [],
   "source": [
    "pd.concat([pred_df, pred_df_2]).to_excel('MultinomialNB 2 probability all с заменой обл. analyzer=char, ngram_range=(2, 3).xlsx')"
   ]
  },
  {
   "cell_type": "markdown",
   "id": "dc43cf73",
   "metadata": {},
   "source": [
    "## Делаю комбинацию разбиения"
   ]
  },
  {
   "cell_type": "markdown",
   "id": "f4904b5b",
   "metadata": {},
   "source": [
    "# Linear Support Vector Machine"
   ]
  },
  {
   "cell_type": "markdown",
   "id": "78e56b36",
   "metadata": {},
   "source": [
    "## SGDClassifier asc 5%"
   ]
  },
  {
   "cell_type": "code",
   "execution_count": null,
   "id": "c51350fd",
   "metadata": {},
   "outputs": [],
   "source": [
    "# Алгоритм работает с точностью около 5% это абсолютно не имее смысла"
   ]
  },
  {
   "cell_type": "code",
   "execution_count": null,
   "id": "d69f16f1",
   "metadata": {},
   "outputs": [],
   "source": [
    "from sklearn.linear_model import SGDClassifier\n",
    "\n",
    "sgd = Pipeline([('vect', CountVectorizer(analyzer ='char')),\n",
    "                ('tfidf', TfidfTransformer()),\n",
    "                ('clf', SGDClassifier(loss='hinge', penalty='l2',alpha=1e-3, random_state=42, max_iter=5, tol=None)),\n",
    "               ])"
   ]
  },
  {
   "cell_type": "code",
   "execution_count": null,
   "id": "6a19cd8b",
   "metadata": {},
   "outputs": [],
   "source": [
    "sgd.fit(X, y)"
   ]
  },
  {
   "cell_type": "code",
   "execution_count": null,
   "id": "1f0cb887",
   "metadata": {},
   "outputs": [],
   "source": [
    "print(X.shape, y.shape)"
   ]
  },
  {
   "cell_type": "code",
   "execution_count": null,
   "id": "ce16302e",
   "metadata": {},
   "outputs": [],
   "source": [
    "%%time\n",
    "y_pred = sgd.predict(test_df_stemming.steammi)"
   ]
  },
  {
   "cell_type": "code",
   "execution_count": null,
   "id": "d12f70b7",
   "metadata": {},
   "outputs": [],
   "source": [
    "pded_df = pd.DataFrame(test_df)\n",
    "pded_df['pred'] = y_pred"
   ]
  },
  {
   "cell_type": "code",
   "execution_count": null,
   "id": "e29d4014",
   "metadata": {},
   "outputs": [],
   "source": [
    "pded_df.iloc[[i for i in range(150, 170)]]"
   ]
  },
  {
   "cell_type": "markdown",
   "id": "72af44ee",
   "metadata": {},
   "source": [
    "## SGDClassifier ass=5%"
   ]
  },
  {
   "cell_type": "markdown",
   "id": "86682c95",
   "metadata": {},
   "source": [
    "повтор с другими параметрами"
   ]
  },
  {
   "cell_type": "code",
   "execution_count": null,
   "id": "5c0db1a8",
   "metadata": {},
   "outputs": [],
   "source": [
    "# Точность 5% "
   ]
  },
  {
   "cell_type": "code",
   "execution_count": null,
   "id": "18929574",
   "metadata": {},
   "outputs": [],
   "source": [
    "from sklearn.linear_model import SGDClassifier\n",
    "\n",
    "sgd = Pipeline([('vect', CountVectorizer(analyzer ='word')),\n",
    "                ('tfidf', TfidfTransformer()),\n",
    "                ('clf', SGDClassifier(loss='squared_loss', penalty='l2',alpha=1e-3, random_state=42, max_iter=5, tol=None)),\n",
    "               ])"
   ]
  },
  {
   "cell_type": "code",
   "execution_count": null,
   "id": "99874d7b",
   "metadata": {},
   "outputs": [],
   "source": [
    "%%time\n",
    "sgd.fit(X, y)"
   ]
  },
  {
   "cell_type": "code",
   "execution_count": null,
   "id": "3f3d57ed",
   "metadata": {},
   "outputs": [],
   "source": [
    "%%time\n",
    "print(X.shape, y.shape)\n",
    "y_pred = sgd.predict(text_ser)"
   ]
  },
  {
   "cell_type": "code",
   "execution_count": null,
   "id": "e03bb8a0",
   "metadata": {},
   "outputs": [],
   "source": [
    "pded_df = pd.DataFrame(y_pred, columns=['pred'])\n",
    "pded_df['old'] = text_ser"
   ]
  },
  {
   "cell_type": "markdown",
   "id": "0defee11",
   "metadata": {},
   "source": [
    "## LinearSVC ?? asc = 40%"
   ]
  },
  {
   "cell_type": "markdown",
   "id": "fe9a5dc0",
   "metadata": {},
   "source": [
    "Беру другой параметор векторизации "
   ]
  },
  {
   "cell_type": "code",
   "execution_count": null,
   "id": "ee775b5d",
   "metadata": {},
   "outputs": [],
   "source": [
    "# довольно не плохой метод. Можно сказать что попадаения около 40%"
   ]
  },
  {
   "cell_type": "code",
   "execution_count": null,
   "id": "536f9398",
   "metadata": {},
   "outputs": [],
   "source": [
    "# TfidfVectorizer - смотрит на вес признака (вектора слова, среза, буквы)\n",
    "# CountVectorizer - смотрит на колличество празнаков(векторов, срезов, букв)"
   ]
  },
  {
   "cell_type": "code",
   "execution_count": null,
   "id": "6905eaa9",
   "metadata": {},
   "outputs": [],
   "source": [
    "# from sklearn.linear_model import LogisticRegression\n",
    "\n",
    "# logreg = Pipeline([('vect', CountVectorizer(analyzer='char_wb', ngram_range=(2, 3))),\n",
    "# #                 ('tfidf', TfidfTransformer()),\n",
    "#                 ('clf', LogisticRegression(random_state=42)),\n",
    "#                ])"
   ]
  },
  {
   "cell_type": "code",
   "execution_count": null,
   "id": "8c2b0bec",
   "metadata": {},
   "outputs": [],
   "source": [
    "from sklearn.feature_extraction.text import TfidfVectorizer\n",
    "from sklearn.svm import SVC, LinearSVC\n",
    "\n",
    "svc = Pipeline([('vect', TfidfVectorizer(analyzer='char_wb', ngram_range=(2, 3))),\n",
    "#                 ('tfidf', TfidfTransformer()),\n",
    "                ('clf', LinearSVC()),\n",
    "               ])"
   ]
  },
  {
   "cell_type": "code",
   "execution_count": null,
   "id": "4f5567cd",
   "metadata": {},
   "outputs": [],
   "source": [
    "%%time\n",
    "svc.fit(X, y)"
   ]
  },
  {
   "cell_type": "code",
   "execution_count": null,
   "id": "a2fc47eb",
   "metadata": {},
   "outputs": [],
   "source": [
    "%%time\n",
    "y_pred = svc.predict(text_ser)"
   ]
  },
  {
   "cell_type": "code",
   "execution_count": null,
   "id": "bf12ba75",
   "metadata": {},
   "outputs": [],
   "source": [
    "pded_df = pd.DataFrame(y_pred, columns=['pred'])\n",
    "pded_df['old'] = text_ser"
   ]
  },
  {
   "cell_type": "code",
   "execution_count": null,
   "id": "bb5e787b",
   "metadata": {},
   "outputs": [],
   "source": [
    "pded_df.to_excel('LogisticRegression, CountVectorizer char_wb, ngram_range=(2, 3).xlsx')"
   ]
  },
  {
   "cell_type": "code",
   "execution_count": null,
   "id": "daeff790",
   "metadata": {},
   "outputs": [],
   "source": [
    "pded_df.loc[500:550]"
   ]
  },
  {
   "cell_type": "markdown",
   "id": "a4b6888a",
   "metadata": {},
   "source": [
    "## SVC not fit"
   ]
  },
  {
   "cell_type": "markdown",
   "id": "b99b54c1",
   "metadata": {},
   "source": [
    "такая модель не может обучиться "
   ]
  },
  {
   "cell_type": "code",
   "execution_count": null,
   "id": "0ee5b369",
   "metadata": {},
   "outputs": [],
   "source": [
    "from sklearn.linear_model import LogisticRegression\n",
    "from sklearn.svm import SVC\n",
    "\n",
    "svc = Pipeline([('vect', CountVectorizer(min_df=0, analyzer='char_wb', ngram_range=(3, 4))),\n",
    "                ('tfidf', TfidfTransformer()),\n",
    "                ('clf', SVC(random_state=42, probability=True)),\n",
    "               ])"
   ]
  },
  {
   "cell_type": "code",
   "execution_count": null,
   "id": "a3cfa1fe",
   "metadata": {},
   "outputs": [],
   "source": [
    "X_concat = X.city_s6 + ' ' + X.streat_s6"
   ]
  },
  {
   "cell_type": "code",
   "execution_count": null,
   "id": "327e747a",
   "metadata": {},
   "outputs": [],
   "source": [
    "%%time\n",
    "svc.fit(X_concat, y)"
   ]
  },
  {
   "cell_type": "code",
   "execution_count": null,
   "id": "4b254767",
   "metadata": {},
   "outputs": [],
   "source": [
    "df_test_no_concat = pd.read_excel('test_clean_num_empty_28.05.xlsx')"
   ]
  },
  {
   "cell_type": "code",
   "execution_count": null,
   "id": "c3fadd5e",
   "metadata": {},
   "outputs": [],
   "source": [
    "text_ser = df_test_no_concat['NASP_cler'].apply(str) + ' ' + df_test_no_concat['ULIC_cler'].apply(str)"
   ]
  },
  {
   "cell_type": "code",
   "execution_count": null,
   "id": "9677fd40",
   "metadata": {},
   "outputs": [],
   "source": [
    "text_ser"
   ]
  },
  {
   "cell_type": "code",
   "execution_count": null,
   "id": "cbf8e55c",
   "metadata": {},
   "outputs": [],
   "source": [
    "%%time\n",
    "y_pred = svc.predict(text_ser)"
   ]
  },
  {
   "cell_type": "code",
   "execution_count": null,
   "id": "c66e777b",
   "metadata": {},
   "outputs": [],
   "source": [
    "pded_df = pd.DataFrame(y_pred, columns=['pred'])\n",
    "pded_df['old'] = text_ser"
   ]
  },
  {
   "cell_type": "markdown",
   "id": "270ad01a",
   "metadata": {},
   "source": [
    "## SVC не может вывести"
   ]
  },
  {
   "cell_type": "code",
   "execution_count": null,
   "id": "ed5d4371",
   "metadata": {},
   "outputs": [],
   "source": [
    "from sklearn.linear_model import LogisticRegression\n",
    "from sklearn.svm import SVC\n",
    "\n",
    "svc = Pipeline([('vect', CountVectorizer(min_df=1, ngram_range=(4, 5))),\n",
    "#                 ('tfidf', TfidfTransformer()),\n",
    "                ('clf', SVC(random_state=42, probability=True)),\n",
    "               ])"
   ]
  },
  {
   "cell_type": "code",
   "execution_count": null,
   "id": "afebe23d",
   "metadata": {},
   "outputs": [],
   "source": [
    "%%time\n",
    "svc.fit(X, y)"
   ]
  },
  {
   "cell_type": "code",
   "execution_count": null,
   "id": "8c0eda04",
   "metadata": {},
   "outputs": [],
   "source": []
  },
  {
   "cell_type": "code",
   "execution_count": null,
   "id": "287e251c",
   "metadata": {},
   "outputs": [],
   "source": [
    "import joblib\n",
    "# # save\n",
    "# joblib.dump(svc, \"model.pkl\") \n",
    "\n",
    "\n",
    "\n",
    "# # load\n",
    "# svc = joblib.load(\"model.pkl\")"
   ]
  },
  {
   "cell_type": "code",
   "execution_count": null,
   "id": "8b045127",
   "metadata": {},
   "outputs": [],
   "source": [
    "test_loc = text_ser.loc[500:550]"
   ]
  },
  {
   "cell_type": "code",
   "execution_count": null,
   "id": "da23b2fc",
   "metadata": {},
   "outputs": [],
   "source": [
    "%%time\n",
    "y_pred = svc.predict(test_loc)"
   ]
  },
  {
   "cell_type": "code",
   "execution_count": null,
   "id": "fa45999a",
   "metadata": {},
   "outputs": [],
   "source": [
    "pded_df = pd.DataFrame(test_loc)\n",
    "pded_df['pred'] = y_pred"
   ]
  },
  {
   "cell_type": "code",
   "execution_count": null,
   "id": "ad28c925",
   "metadata": {},
   "outputs": [],
   "source": [
    "pded_df.to_excel('SVC, CountVectorizer, ngram_range=(4, 5).xlsx')"
   ]
  },
  {
   "cell_type": "code",
   "execution_count": null,
   "id": "9db99ef6",
   "metadata": {},
   "outputs": [],
   "source": [
    "pded_df.iloc[[i for i in range(5000, 5050)]]"
   ]
  },
  {
   "cell_type": "markdown",
   "id": "a6b43d4c",
   "metadata": {},
   "source": [
    "## SGDClassifier пробую"
   ]
  },
  {
   "cell_type": "code",
   "execution_count": null,
   "id": "1bceef7f",
   "metadata": {},
   "outputs": [],
   "source": [
    "from sklearn.linear_model import SGDClassifier\n",
    "\n",
    "sgd = Pipeline([('vect', CountVectorizer(min_df=0, ngram_range=(5, 5))),\n",
    "#                 ('tfidf', TfidfTransformer()),\n",
    "                ('clf', SGDClassifier(loss='squared_loss', penalty='l2',alpha=1e-3, random_state=42)),\n",
    "               ])"
   ]
  },
  {
   "cell_type": "code",
   "execution_count": null,
   "id": "5b2405bd",
   "metadata": {},
   "outputs": [],
   "source": [
    "%%time\n",
    "sgd.fit(X, y)"
   ]
  },
  {
   "cell_type": "code",
   "execution_count": null,
   "id": "81c0ad1e",
   "metadata": {},
   "outputs": [],
   "source": [
    "test_srt_concat.head(20)"
   ]
  },
  {
   "cell_type": "code",
   "execution_count": null,
   "id": "cb35adab",
   "metadata": {},
   "outputs": [],
   "source": [
    "%%time\n",
    "y_pred = sgd.predict(test_srt_concat.head(50).values)"
   ]
  },
  {
   "cell_type": "code",
   "execution_count": null,
   "id": "89e93b45",
   "metadata": {},
   "outputs": [],
   "source": [
    "y_pred"
   ]
  },
  {
   "cell_type": "code",
   "execution_count": null,
   "id": "52aa4bf8",
   "metadata": {},
   "outputs": [],
   "source": [
    "pded_df = pd.DataFrame(text_ser)\n",
    "pded_df['pred'] = y_pred"
   ]
  },
  {
   "cell_type": "code",
   "execution_count": null,
   "id": "c1b56d20",
   "metadata": {},
   "outputs": [],
   "source": [
    "# pded_df.iloc[[i for i in range(5000, 5050)]]"
   ]
  },
  {
   "cell_type": "code",
   "execution_count": null,
   "id": "c9620bad",
   "metadata": {},
   "outputs": [],
   "source": [
    "pded_df"
   ]
  },
  {
   "cell_type": "markdown",
   "id": "92f77b5f",
   "metadata": {},
   "source": [
    "# Logistic Regression not fit"
   ]
  },
  {
   "cell_type": "code",
   "execution_count": null,
   "id": "ae831215",
   "metadata": {},
   "outputs": [],
   "source": []
  },
  {
   "cell_type": "code",
   "execution_count": null,
   "id": "24bf695a",
   "metadata": {},
   "outputs": [],
   "source": [
    "from sklearn.linear_model import LogisticRegression\n",
    "\n",
    "logreg = Pipeline([('vect', CountVectorizer()),\n",
    "#                 ('tfidf', TfidfTransformer()),\n",
    "                ('clf', LogisticRegression(n_jobs=2, C=1, random_state=42)),\n",
    "               ])"
   ]
  },
  {
   "cell_type": "code",
   "execution_count": null,
   "id": "5ab39d95",
   "metadata": {},
   "outputs": [],
   "source": [
    "%%time\n",
    "logreg.fit(X, y.s6_clear) "
   ]
  },
  {
   "cell_type": "code",
   "execution_count": null,
   "id": "524baefe",
   "metadata": {},
   "outputs": [],
   "source": []
  },
  {
   "cell_type": "markdown",
   "id": "a0718305",
   "metadata": {},
   "source": [
    "CatBoostClassifier"
   ]
  },
  {
   "cell_type": "code",
   "execution_count": null,
   "id": "0eabc6c4",
   "metadata": {},
   "outputs": [],
   "source": [
    "from catboost import CatBoostClassifier\n",
    "cat = CatBoostClassifier(cat_features=['fit'])"
   ]
  },
  {
   "cell_type": "code",
   "execution_count": null,
   "id": "287acdea",
   "metadata": {},
   "outputs": [],
   "source": [
    "cat = Pipeline([('vect', CountVectorizer(analyzer='word')),\n",
    "                ('tfidf', TfidfTransformer()),\n",
    "                ('clf', CatBoostClassifier()),\n",
    "               ])"
   ]
  },
  {
   "cell_type": "code",
   "execution_count": null,
   "id": "4532b478",
   "metadata": {},
   "outputs": [],
   "source": [
    "X_cat = pd.DataFrame(X.values, columns=['fit'])"
   ]
  },
  {
   "cell_type": "code",
   "execution_count": null,
   "id": "70f70a94",
   "metadata": {
    "scrolled": true
   },
   "outputs": [],
   "source": [
    "cat.fit(X ,y)"
   ]
  },
  {
   "cell_type": "markdown",
   "id": "b56098fb",
   "metadata": {},
   "source": [
    "RandomForestClassifier"
   ]
  },
  {
   "cell_type": "code",
   "execution_count": null,
   "id": "53d33a87",
   "metadata": {},
   "outputs": [],
   "source": [
    "from sklearn.ensemble import RandomForestClassifier"
   ]
  },
  {
   "cell_type": "code",
   "execution_count": null,
   "id": "19514ed4",
   "metadata": {},
   "outputs": [],
   "source": [
    "# rfc = RandomForestClassifier()"
   ]
  },
  {
   "cell_type": "code",
   "execution_count": null,
   "id": "0c44820e",
   "metadata": {},
   "outputs": [],
   "source": [
    "rfc = Pipeline([('vect', CountVectorizer(analyzer='word')),\n",
    "                ('tfidf', TfidfTransformer()),\n",
    "                ('clf', RandomForestClassifier(n_estimators=30, criterion='entropy', max_depth=10)),\n",
    "               ])"
   ]
  },
  {
   "cell_type": "code",
   "execution_count": null,
   "id": "9dac9234",
   "metadata": {},
   "outputs": [],
   "source": [
    "y_pred = rfc.predict(test_df)"
   ]
  },
  {
   "cell_type": "markdown",
   "id": "042664f6",
   "metadata": {},
   "source": [
    "Смотрю на колличество совпадений по городам в прошлых предсказаниях"
   ]
  },
  {
   "cell_type": "code",
   "execution_count": null,
   "id": "c2543721",
   "metadata": {},
   "outputs": [],
   "source": [
    "# Предсказания Linear Support Vector Machine при обучении c городами.xlsx"
   ]
  },
  {
   "cell_type": "code",
   "execution_count": null,
   "id": "f5b29db7",
   "metadata": {},
   "outputs": [],
   "source": [
    "df_predict_late = pd.read_excel('./Домашная работа 23.05.2021/Предсказания Linear Support Vector Machine при обучении без городов.xlsx')"
   ]
  },
  {
   "cell_type": "code",
   "execution_count": null,
   "id": "23f46842",
   "metadata": {},
   "outputs": [],
   "source": [
    "def city_in_UL_NS(line):\n",
    "    NASP = str(line[1]).lower()\n",
    "    city = line[0][:6]\n",
    "#     print(f'city {city} nasp {NASP}')\n",
    "    if city in NASP:\n",
    "        return True\n",
    "    else:\n",
    "        return False "
   ]
  },
  {
   "cell_type": "code",
   "execution_count": null,
   "id": "75b99a4e",
   "metadata": {},
   "outputs": [],
   "source": [
    "df_predict_late['df_predict_late'] = df_predict_late.apply(city_in_UL_NS, axis=1)"
   ]
  },
  {
   "cell_type": "code",
   "execution_count": null,
   "id": "5eeefda1",
   "metadata": {},
   "outputs": [],
   "source": [
    "df_predict_late['df_predict_late'].sum()"
   ]
  },
  {
   "cell_type": "code",
   "execution_count": null,
   "id": "1846cfb3",
   "metadata": {},
   "outputs": [],
   "source": [
    "df_predict_late.query('df_predict_late == True').tail(30)"
   ]
  },
  {
   "cell_type": "markdown",
   "id": "59b6a318",
   "metadata": {},
   "source": [
    "# Пробую с начала векторизовать потом обучить модель"
   ]
  },
  {
   "cell_type": "code",
   "execution_count": null,
   "id": "924f5a25",
   "metadata": {},
   "outputs": [],
   "source": [
    "from sklearn.feature_extraction.text import CountVectorizer"
   ]
  },
  {
   "cell_type": "code",
   "execution_count": null,
   "id": "b9e512ef",
   "metadata": {},
   "outputs": [],
   "source": [
    "# CountVectorizer\n",
    "# vectorizer.fit_transform(corpus)\n",
    "vectorizer2 = CountVectorizer(analyzer='char_wb', ngram_range=(5, 5))\n",
    "X2 = vectorizer2.fit_transform(X2_text)"
   ]
  },
  {
   "cell_type": "code",
   "execution_count": null,
   "id": "69f8dbce",
   "metadata": {},
   "outputs": [],
   "source": [
    "X2_text = X.head(10)"
   ]
  },
  {
   "cell_type": "code",
   "execution_count": null,
   "id": "9b8e9fee",
   "metadata": {},
   "outputs": [],
   "source": [
    "X"
   ]
  },
  {
   "cell_type": "code",
   "execution_count": null,
   "id": "9a3e63c0",
   "metadata": {
    "scrolled": true
   },
   "outputs": [],
   "source": [
    "len(vectorizer2.get_feature_names())"
   ]
  },
  {
   "cell_type": "code",
   "execution_count": null,
   "id": "019d8b29",
   "metadata": {},
   "outputs": [],
   "source": [
    "vectorizer2.get_feature_names()"
   ]
  },
  {
   "cell_type": "code",
   "execution_count": null,
   "id": "2a4267d1",
   "metadata": {},
   "outputs": [],
   "source": [
    "len(vectorizer2.get_feature_names())"
   ]
  },
  {
   "cell_type": "code",
   "execution_count": null,
   "id": "44d6e2a7",
   "metadata": {},
   "outputs": [],
   "source": [
    "from sklearn.feature_extraction.text import HashingVectorizer"
   ]
  },
  {
   "cell_type": "code",
   "execution_count": null,
   "id": "3201d76d",
   "metadata": {},
   "outputs": [],
   "source": [
    "vectorizer2 = CountVectorizer(analyzer='char_wb', ngram_range=(5, 5))\n",
    "X2 = vectorizer2.fit_transform(X2_text)"
   ]
  },
  {
   "cell_type": "code",
   "execution_count": null,
   "id": "48a1a860",
   "metadata": {
    "code_folding": []
   },
   "outputs": [],
   "source": [
    "X2"
   ]
  },
  {
   "cell_type": "code",
   "execution_count": null,
   "id": "19182a07",
   "metadata": {},
   "outputs": [],
   "source": []
  },
  {
   "cell_type": "markdown",
   "id": "68e57674",
   "metadata": {},
   "source": [
    "Я выбрал метод по которому буду делать векторизацию HashingVectorizer. Это будет довольно быстроый метод"
   ]
  },
  {
   "cell_type": "code",
   "execution_count": null,
   "id": "bee0d8a8",
   "metadata": {},
   "outputs": [],
   "source": [
    "from sklearn.feature_extraction.text import HashingVectorizer\n",
    "\n",
    "vectorizer3 = HashingVectorizer(analyzer='char_wb', ngram_range=(5, 5))\n",
    "X_3 = vectorizer2.fit_transform(X)"
   ]
  },
  {
   "cell_type": "code",
   "execution_count": null,
   "id": "39820ea3",
   "metadata": {},
   "outputs": [],
   "source": []
  },
  {
   "cell_type": "code",
   "execution_count": null,
   "id": "0a0d53d4",
   "metadata": {},
   "outputs": [],
   "source": [
    "# from sklearn.svm import SVC, LinearSVC\n",
    "\n",
    "# svc = Pipeline([('vect', TfidfVectorizer(analyzer='char_wb', ngram_range=(2, 3))),\n",
    "# #                 ('tfidf', TfidfTransformer()),\n",
    "#                 ('clf', LinearSVC()),\n",
    "#                ])"
   ]
  },
  {
   "cell_type": "code",
   "execution_count": null,
   "id": "e99a12f1",
   "metadata": {},
   "outputs": [],
   "source": [
    "from sklearn.svm import SVC, LinearSVC\n",
    "clf_lin = LinearSVC()"
   ]
  },
  {
   "cell_type": "code",
   "execution_count": null,
   "id": "4f39b462",
   "metadata": {},
   "outputs": [],
   "source": [
    "%%time\n",
    "clf_lin.fit(X_3, y)"
   ]
  },
  {
   "cell_type": "code",
   "execution_count": null,
   "id": "e03707de",
   "metadata": {},
   "outputs": [],
   "source": [
    "import joblib\n",
    "# save\n",
    "joblib.dump(clf_lin, \"model_clf_lin.pkl\") "
   ]
  },
  {
   "cell_type": "code",
   "execution_count": null,
   "id": "f98b6180",
   "metadata": {},
   "outputs": [],
   "source": [
    "X_4 = vectorizer2.fit_transform(test_srt_concat_patr)"
   ]
  },
  {
   "cell_type": "code",
   "execution_count": null,
   "id": "64a67c6f",
   "metadata": {},
   "outputs": [],
   "source": [
    "clf_lin.predict(X_4)"
   ]
  },
  {
   "cell_type": "markdown",
   "id": "92b3ce7d",
   "metadata": {},
   "source": [
    "# Обучение "
   ]
  },
  {
   "cell_type": "code",
   "execution_count": null,
   "id": "a691aa8e",
   "metadata": {},
   "outputs": [],
   "source": [
    "from sklearn.tree import DecisionTreeClassifier\n",
    "\n",
    "clf_lin_2 = Pipeline([('vect', HashingVectorizer(analyzer='char_wb', ngram_range=(5, 5))),\n",
    "#                 ('tfidf', TfidfTransformer()),\n",
    "                ('clf', DecisionTreeClassifier(random_state=0, max_depth=100000)),\n",
    "               ])"
   ]
  },
  {
   "cell_type": "code",
   "execution_count": null,
   "id": "6948dc4d",
   "metadata": {},
   "outputs": [],
   "source": [
    "clf_lin_2.fit(X, y)"
   ]
  },
  {
   "cell_type": "code",
   "execution_count": null,
   "id": "b8269271",
   "metadata": {},
   "outputs": [],
   "source": [
    "joblib.dump(clf_lin_2, \"model_clf_lin_hash.pkl\") "
   ]
  },
  {
   "cell_type": "code",
   "execution_count": null,
   "id": "8ad4973c",
   "metadata": {},
   "outputs": [],
   "source": [
    "X"
   ]
  },
  {
   "cell_type": "code",
   "execution_count": null,
   "id": "d4abf8ea",
   "metadata": {},
   "outputs": [],
   "source": [
    "test_srt_concat.tail(40)"
   ]
  },
  {
   "cell_type": "code",
   "execution_count": null,
   "id": "850f3828",
   "metadata": {},
   "outputs": [],
   "source": [
    "from sklearn.linear_model import SGDClassifier\n",
    "\n",
    "sgd = Pipeline([('vect', CountVectorizer(analyzer ='char')),\n",
    "                ('tfidf', TfidfTransformer()),\n",
    "                ('clf', SGDClassifier(loss='hinge', penalty='l2',alpha=1e-3, random_state=42, max_iter=5, tol=None)),\n",
    "               ])"
   ]
  }
 ],
 "metadata": {
  "kernelspec": {
   "display_name": "Python 3",
   "language": "python",
   "name": "python3"
  },
  "language_info": {
   "codemirror_mode": {
    "name": "ipython",
    "version": 3
   },
   "file_extension": ".py",
   "mimetype": "text/x-python",
   "name": "python",
   "nbconvert_exporter": "python",
   "pygments_lexer": "ipython3",
   "version": "3.8.8"
  },
  "toc": {
   "base_numbering": 1,
   "nav_menu": {
    "height": "113px",
    "width": "210px"
   },
   "number_sections": true,
   "sideBar": true,
   "skip_h1_title": false,
   "title_cell": "Table of Contents",
   "title_sidebar": "Contents",
   "toc_cell": false,
   "toc_position": {
    "height": "calc(100% - 180px)",
    "left": "10px",
    "top": "150px",
    "width": "384px"
   },
   "toc_section_display": true,
   "toc_window_display": true
  }
 },
 "nbformat": 4,
 "nbformat_minor": 5
}
