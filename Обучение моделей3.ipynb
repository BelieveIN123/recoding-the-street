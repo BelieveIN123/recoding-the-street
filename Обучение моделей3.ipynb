{
 "cells": [
  {
   "cell_type": "code",
   "execution_count": 1,
   "id": "c157cfba",
   "metadata": {},
   "outputs": [],
   "source": [
    "import pandas as pd\n",
    "from sklearn.linear_model import LogisticRegression\n",
    "from sklearn.model_selection import train_test_split\n",
    "import numpy as np\n",
    "\n",
    "from sklearn.naive_bayes import MultinomialNB\n",
    "from sklearn.pipeline import Pipeline\n",
    "from sklearn.feature_extraction.text import TfidfTransformer\n",
    "from sklearn.feature_extraction.text import CountVectorizer\n",
    "from sklearn.metrics import accuracy_score\n",
    "from sklearn.feature_extraction.text import HashingVectorizer\n",
    "\n",
    "\n",
    "from tqdm.auto import tqdm, trange"
   ]
  },
  {
   "cell_type": "markdown",
   "id": "ad96e56e",
   "metadata": {},
   "source": [
    "# Считываю дф улиц. добавляю дф с двумя столбцами"
   ]
  },
  {
   "cell_type": "code",
   "execution_count": 3,
   "id": "5cc221d5",
   "metadata": {},
   "outputs": [],
   "source": [
    "test_df_two_col = pd.read_excel('clear drop nan sh+city and sh + streat + type.xlsx')"
   ]
  },
  {
   "cell_type": "code",
   "execution_count": 4,
   "id": "34ebe2cb",
   "metadata": {},
   "outputs": [
    {
     "data": {
      "text/html": [
       "<div>\n",
       "<style scoped>\n",
       "    .dataframe tbody tr th:only-of-type {\n",
       "        vertical-align: middle;\n",
       "    }\n",
       "\n",
       "    .dataframe tbody tr th {\n",
       "        vertical-align: top;\n",
       "    }\n",
       "\n",
       "    .dataframe thead th {\n",
       "        text-align: right;\n",
       "    }\n",
       "</style>\n",
       "<table border=\"1\" class=\"dataframe\">\n",
       "  <thead>\n",
       "    <tr style=\"text-align: right;\">\n",
       "      <th></th>\n",
       "      <th>concat_name</th>\n",
       "      <th>type</th>\n",
       "      <th>S6_ID_str</th>\n",
       "    </tr>\n",
       "  </thead>\n",
       "  <tbody>\n",
       "    <tr>\n",
       "      <th>0</th>\n",
       "      <td>автодорога екад пр-кт академика сахарова</td>\n",
       "      <td>автодорога екад пр-кт академика сахарова</td>\n",
       "      <td>838</td>\n",
       "    </tr>\n",
       "    <tr>\n",
       "      <th>1</th>\n",
       "      <td>автодорога екад ул гоголя</td>\n",
       "      <td>автодорога екад ул гоголя</td>\n",
       "      <td>40452</td>\n",
       "    </tr>\n",
       "    <tr>\n",
       "      <th>2</th>\n",
       "      <td>автодорога екад ул курганская</td>\n",
       "      <td>автодорога екад ул курганская</td>\n",
       "      <td>25047</td>\n",
       "    </tr>\n",
       "    <tr>\n",
       "      <th>3</th>\n",
       "      <td>автодорога екад ул уральских рабочих</td>\n",
       "      <td>автодорога екад ул уральских рабочих</td>\n",
       "      <td>40453</td>\n",
       "    </tr>\n",
       "    <tr>\n",
       "      <th>4</th>\n",
       "      <td>автодорога екад ул чайковского</td>\n",
       "      <td>автодорога екад ул чайковского</td>\n",
       "      <td>40454</td>\n",
       "    </tr>\n",
       "    <tr>\n",
       "      <th>5</th>\n",
       "      <td>автодорога екад ул черепанова</td>\n",
       "      <td>автодорога екад ул черепанова</td>\n",
       "      <td>25514</td>\n",
       "    </tr>\n",
       "    <tr>\n",
       "      <th>6</th>\n",
       "      <td>автодорога екад ул эскадронная</td>\n",
       "      <td>автодорога екад ул эскадронная</td>\n",
       "      <td>40455</td>\n",
       "    </tr>\n",
       "    <tr>\n",
       "      <th>7</th>\n",
       "      <td>автодорога екатеринбург - аэропорт кольцово пе...</td>\n",
       "      <td>автодорога екатеринбург - аэропорт кольцово пе...</td>\n",
       "      <td>40459</td>\n",
       "    </tr>\n",
       "    <tr>\n",
       "      <th>8</th>\n",
       "      <td>автодорога екатеринбург - аэропорт кольцово ул...</td>\n",
       "      <td>автодорога екатеринбург - аэропорт кольцово ул...</td>\n",
       "      <td>40456</td>\n",
       "    </tr>\n",
       "    <tr>\n",
       "      <th>9</th>\n",
       "      <td>автодорога екатеринбург - аэропорт кольцово ул...</td>\n",
       "      <td>автодорога екатеринбург - аэропорт кольцово ул...</td>\n",
       "      <td>40457</td>\n",
       "    </tr>\n",
       "  </tbody>\n",
       "</table>\n",
       "</div>"
      ],
      "text/plain": [
       "                                         concat_name  \\\n",
       "0           автодорога екад пр-кт академика сахарова   \n",
       "1                          автодорога екад ул гоголя   \n",
       "2                      автодорога екад ул курганская   \n",
       "3               автодорога екад ул уральских рабочих   \n",
       "4                     автодорога екад ул чайковского   \n",
       "5                      автодорога екад ул черепанова   \n",
       "6                     автодорога екад ул эскадронная   \n",
       "7  автодорога екатеринбург - аэропорт кольцово пе...   \n",
       "8  автодорога екатеринбург - аэропорт кольцово ул...   \n",
       "9  автодорога екатеринбург - аэропорт кольцово ул...   \n",
       "\n",
       "                                                type S6_ID_str  \n",
       "0           автодорога екад пр-кт академика сахарова       838  \n",
       "1                          автодорога екад ул гоголя     40452  \n",
       "2                      автодорога екад ул курганская     25047  \n",
       "3               автодорога екад ул уральских рабочих     40453  \n",
       "4                     автодорога екад ул чайковского     40454  \n",
       "5                      автодорога екад ул черепанова     25514  \n",
       "6                     автодорога екад ул эскадронная     40455  \n",
       "7  автодорога екатеринбург - аэропорт кольцово пе...     40459  \n",
       "8  автодорога екатеринбург - аэропорт кольцово ул...     40456  \n",
       "9  автодорога екатеринбург - аэропорт кольцово ул...     40457  "
      ]
     },
     "execution_count": 4,
     "metadata": {},
     "output_type": "execute_result"
    }
   ],
   "source": [
    "test_df_two_col.head(10)"
   ]
  },
  {
   "cell_type": "code",
   "execution_count": 11,
   "id": "5c1952fe",
   "metadata": {},
   "outputs": [],
   "source": [
    "X = test_df_two_col['concat_name']\n",
    "y = test_df_two_col['type'] + '++' +test_df_two_col['S6_ID_str']\n",
    "# Добавляю сразу S6 чтобы после не перепутать какое название в какому ID относится"
   ]
  },
  {
   "cell_type": "code",
   "execution_count": 12,
   "id": "4fad15d4",
   "metadata": {},
   "outputs": [
    {
     "data": {
      "text/plain": [
       "0        автодорога екад пр-кт академика сахарова++838\n",
       "1                     автодорога екад ул гоголя++40452\n",
       "2                 автодорога екад ул курганская++25047\n",
       "3          автодорога екад ул уральских рабочих++40453\n",
       "4                автодорога екад ул чайковского++40454\n",
       "                             ...                      \n",
       "31264                  х николаев ул набережная++18396\n",
       "31265            х новосергиевка ул центральная++14410\n",
       "31266                     х петровка ул полевая++16842\n",
       "31267               х расстригин ул центральная++41268\n",
       "31268                   х тупилкин ул береговая++13684\n",
       "Length: 31269, dtype: object"
      ]
     },
     "execution_count": 12,
     "metadata": {},
     "output_type": "execute_result"
    }
   ],
   "source": [
    "y"
   ]
  },
  {
   "cell_type": "markdown",
   "id": "c61f7f49",
   "metadata": {},
   "source": [
    "# Добавляю тестовую выборку"
   ]
  },
  {
   "cell_type": "markdown",
   "id": "264a84ae",
   "metadata": {},
   "source": [
    "## Данные на которых я обучал ранее"
   ]
  },
  {
   "cell_type": "code",
   "execution_count": 3,
   "id": "ba81499a",
   "metadata": {},
   "outputs": [],
   "source": [
    "df_test_clear = pd.read_excel('test_clean_num_empty_07.06.xlsx')"
   ]
  },
  {
   "cell_type": "code",
   "execution_count": 13,
   "id": "4d055490",
   "metadata": {},
   "outputs": [
    {
     "data": {
      "text/plain": [
       "(60624, 4)"
      ]
     },
     "execution_count": 13,
     "metadata": {},
     "output_type": "execute_result"
    }
   ],
   "source": [
    "df_test_clear.shape"
   ]
  },
  {
   "cell_type": "code",
   "execution_count": 6,
   "id": "49766e5e",
   "metadata": {},
   "outputs": [],
   "source": [
    "df_test_clear['test_concat'] = df_test_clear['NASP_cler'] + ' ' + df_test_clear['ULIC_cler']"
   ]
  },
  {
   "cell_type": "code",
   "execution_count": 7,
   "id": "3b3ea6c1",
   "metadata": {},
   "outputs": [],
   "source": [
    "df_test_clear.dropna().to_excel('test_clean_num_empty_dropna_11.06 .xlsx')"
   ]
  },
  {
   "cell_type": "code",
   "execution_count": 14,
   "id": "5444e7b6",
   "metadata": {},
   "outputs": [
    {
     "data": {
      "text/html": [
       "<div>\n",
       "<style scoped>\n",
       "    .dataframe tbody tr th:only-of-type {\n",
       "        vertical-align: middle;\n",
       "    }\n",
       "\n",
       "    .dataframe tbody tr th {\n",
       "        vertical-align: top;\n",
       "    }\n",
       "\n",
       "    .dataframe thead th {\n",
       "        text-align: right;\n",
       "    }\n",
       "</style>\n",
       "<table border=\"1\" class=\"dataframe\">\n",
       "  <thead>\n",
       "    <tr style=\"text-align: right;\">\n",
       "      <th></th>\n",
       "      <th>NASP_cler</th>\n",
       "      <th>ULIC_cler</th>\n",
       "      <th>ID</th>\n",
       "      <th>test_concat</th>\n",
       "    </tr>\n",
       "  </thead>\n",
       "  <tbody>\n",
       "    <tr>\n",
       "      <th>0</th>\n",
       "      <td>штат техас</td>\n",
       "      <td>драйв кингфишер</td>\n",
       "      <td>3093</td>\n",
       "      <td>штат техас драйв кингфишер</td>\n",
       "    </tr>\n",
       "    <tr>\n",
       "      <th>1</th>\n",
       "      <td>обл московская</td>\n",
       "      <td>коломийца</td>\n",
       "      <td>3094</td>\n",
       "      <td>обл московская коломийца</td>\n",
       "    </tr>\n",
       "    <tr>\n",
       "      <th>2</th>\n",
       "      <td>германия</td>\n",
       "      <td>нолдеринг</td>\n",
       "      <td>3117</td>\n",
       "      <td>германия нолдеринг</td>\n",
       "    </tr>\n",
       "    <tr>\n",
       "      <th>3</th>\n",
       "      <td>обл курганская</td>\n",
       "      <td>ул савельева</td>\n",
       "      <td>3844</td>\n",
       "      <td>обл курганская ул савельева</td>\n",
       "    </tr>\n",
       "    <tr>\n",
       "      <th>4</th>\n",
       "      <td>хмао-югра</td>\n",
       "      <td>район упр-2</td>\n",
       "      <td>7370</td>\n",
       "      <td>хмао-югра район упр-2</td>\n",
       "    </tr>\n",
       "    <tr>\n",
       "      <th>...</th>\n",
       "      <td>...</td>\n",
       "      <td>...</td>\n",
       "      <td>...</td>\n",
       "      <td>...</td>\n",
       "    </tr>\n",
       "    <tr>\n",
       "      <th>60619</th>\n",
       "      <td>область свердловская</td>\n",
       "      <td>ул заславского</td>\n",
       "      <td>23223</td>\n",
       "      <td>область свердловская ул заславского</td>\n",
       "    </tr>\n",
       "    <tr>\n",
       "      <th>60620</th>\n",
       "      <td>г серов</td>\n",
       "      <td>ул заславского</td>\n",
       "      <td>35101</td>\n",
       "      <td>г серов ул заславского</td>\n",
       "    </tr>\n",
       "    <tr>\n",
       "      <th>60621</th>\n",
       "      <td>область свердловская</td>\n",
       "      <td>ул заславского</td>\n",
       "      <td>35102</td>\n",
       "      <td>область свердловская ул заславского</td>\n",
       "    </tr>\n",
       "    <tr>\n",
       "      <th>60622</th>\n",
       "      <td>серов</td>\n",
       "      <td>заславского</td>\n",
       "      <td>40513</td>\n",
       "      <td>серов заславского</td>\n",
       "    </tr>\n",
       "    <tr>\n",
       "      <th>60623</th>\n",
       "      <td>серов</td>\n",
       "      <td>заславского</td>\n",
       "      <td>40681</td>\n",
       "      <td>серов заславского</td>\n",
       "    </tr>\n",
       "  </tbody>\n",
       "</table>\n",
       "<p>60624 rows × 4 columns</p>\n",
       "</div>"
      ],
      "text/plain": [
       "                  NASP_cler        ULIC_cler     ID  \\\n",
       "0                штат техас  драйв кингфишер   3093   \n",
       "1            обл московская        коломийца   3094   \n",
       "2                  германия        нолдеринг   3117   \n",
       "3            обл курганская     ул савельева   3844   \n",
       "4                 хмао-югра      район упр-2   7370   \n",
       "...                     ...              ...    ...   \n",
       "60619  область свердловская   ул заславского  23223   \n",
       "60620               г серов   ул заславского  35101   \n",
       "60621  область свердловская   ул заславского  35102   \n",
       "60622                 серов      заславского  40513   \n",
       "60623                 серов      заславского  40681   \n",
       "\n",
       "                               test_concat  \n",
       "0               штат техас драйв кингфишер  \n",
       "1                 обл московская коломийца  \n",
       "2                       германия нолдеринг  \n",
       "3              обл курганская ул савельева  \n",
       "4                    хмао-югра район упр-2  \n",
       "...                                    ...  \n",
       "60619  область свердловская ул заславского  \n",
       "60620               г серов ул заславского  \n",
       "60621  область свердловская ул заславского  \n",
       "60622                    серов заславского  \n",
       "60623                    серов заславского  \n",
       "\n",
       "[60624 rows x 4 columns]"
      ]
     },
     "execution_count": 14,
     "metadata": {},
     "output_type": "execute_result"
    }
   ],
   "source": [
    "df_test_clear"
   ]
  },
  {
   "cell_type": "markdown",
   "id": "131c198b",
   "metadata": {},
   "source": [
    "## Данные с заменой \"свердловской области\" на \"Екатеринбург\" "
   ]
  },
  {
   "cell_type": "code",
   "execution_count": 31,
   "id": "22015a77",
   "metadata": {},
   "outputs": [],
   "source": [
    "df_test_clear = pd.read_excel('test_clean_num_empty_09.06 с заменой сверд. обл. на екатеринбург .xlsx')"
   ]
  },
  {
   "cell_type": "code",
   "execution_count": 32,
   "id": "aefab644",
   "metadata": {},
   "outputs": [],
   "source": [
    "df_test_clear['test_concat'] = df_test_clear['NASP_cler'] + ' ' + df_test_clear['ULIC_cler']"
   ]
  },
  {
   "cell_type": "code",
   "execution_count": 33,
   "id": "e38c5df6",
   "metadata": {},
   "outputs": [],
   "source": [
    "test_srt_concat = df_test_clear['test_concat']"
   ]
  },
  {
   "cell_type": "code",
   "execution_count": 36,
   "id": "f679b761",
   "metadata": {},
   "outputs": [],
   "source": [
    "df_test_clear.to_excel('test_clean_num_empty_09.06 с заменой сверд. обл. на екатеринбург .xlsx')"
   ]
  },
  {
   "cell_type": "code",
   "execution_count": 25,
   "id": "c20bcf70",
   "metadata": {},
   "outputs": [],
   "source": [
    "test_srt_concat = test_srt_concat.dropna()"
   ]
  },
  {
   "cell_type": "code",
   "execution_count": 26,
   "id": "0646382d",
   "metadata": {},
   "outputs": [
    {
     "data": {
      "text/plain": [
       "(60596,)"
      ]
     },
     "execution_count": 26,
     "metadata": {},
     "output_type": "execute_result"
    }
   ],
   "source": [
    "test_srt_concat.shape"
   ]
  },
  {
   "cell_type": "code",
   "execution_count": 27,
   "id": "b01e1a58",
   "metadata": {},
   "outputs": [],
   "source": [
    "test_srt_concat_1 = test_srt_concat[:30000]\n",
    "test_srt_concat_2 = test_srt_concat[30000:]"
   ]
  },
  {
   "cell_type": "markdown",
   "id": "6c9ba0fe",
   "metadata": {},
   "source": [
    "# Naive Bayes Classifier"
   ]
  },
  {
   "cell_type": "markdown",
   "id": "0b725311",
   "metadata": {},
   "source": [
    "Naive Bayes Classifier"
   ]
  },
  {
   "cell_type": "code",
   "execution_count": 12,
   "id": "21956fab",
   "metadata": {},
   "outputs": [],
   "source": [
    "from sklearn.naive_bayes import MultinomialNB\n",
    "from sklearn.pipeline import Pipeline\n",
    "from sklearn.feature_extraction.text import TfidfTransformer\n",
    "from sklearn.feature_extraction.text import CountVectorizer"
   ]
  },
  {
   "cell_type": "markdown",
   "id": "a5c446d3",
   "metadata": {},
   "source": [
    "## Рабочий вариант 95% точность. Попытка 2"
   ]
  },
  {
   "cell_type": "code",
   "execution_count": 14,
   "id": "fb52603f",
   "metadata": {},
   "outputs": [],
   "source": [
    "nb = Pipeline([('vect', CountVectorizer(analyzer='char', ngram_range=(3, 4), binary = True)),\n",
    "#                ('tfidf', TfidfTransformer()),\n",
    "               ('clf', MultinomialNB()),\n",
    "              ])"
   ]
  },
  {
   "cell_type": "code",
   "execution_count": 15,
   "id": "27d166a7",
   "metadata": {},
   "outputs": [
    {
     "name": "stdout",
     "output_type": "stream",
     "text": [
      "Wall time: 1min 37s\n"
     ]
    },
    {
     "data": {
      "text/plain": [
       "Pipeline(steps=[('vect',\n",
       "                 CountVectorizer(analyzer='char', binary=True,\n",
       "                                 ngram_range=(3, 4))),\n",
       "                ('clf', MultinomialNB())])"
      ]
     },
     "execution_count": 15,
     "metadata": {},
     "output_type": "execute_result"
    }
   ],
   "source": [
    "%%time\n",
    "nb.fit(X, y)"
   ]
  },
  {
   "cell_type": "code",
   "execution_count": 18,
   "id": "7d86cc48",
   "metadata": {},
   "outputs": [],
   "source": [
    "y_pred = nb.predict(test_srt_concat_1)\n",
    "\n",
    "probability_pred_1 = pd.DataFrame(nb.predict_proba(test_srt_concat_1)).max(axis=1)\n",
    "\n",
    "pred_df = pd.DataFrame(test_srt_concat_1).reset_index(drop=True)\n",
    "\n",
    "pred_df['pred'] = y_pred\n",
    "\n",
    "pred_df = pred_df.reset_index(drop=True)\n",
    "\n",
    "pred_df['probability'] = probability_pred_1\n",
    "\n",
    "# Вторая часть предсказанных данных\n",
    "\n",
    "y_pred = nb.predict(test_srt_concat_2)\n",
    "\n",
    "probability_pred_1 = pd.DataFrame(nb.predict_proba(test_srt_concat_2)).max(axis=1)\n",
    "\n",
    "pred_df_2 = pd.DataFrame(test_srt_concat_2).reset_index(drop=True)\n",
    "\n",
    "pred_df_2['pred'] = y_pred\n",
    "\n",
    "pred_df_2 = pred_df_2.reset_index(drop=True)\n",
    "\n",
    "pred_df_2['probability'] = probability_pred_1"
   ]
  },
  {
   "cell_type": "code",
   "execution_count": 19,
   "id": "71fc80a1",
   "metadata": {},
   "outputs": [],
   "source": [
    "pd.concat([pred_df, pred_df_2]).to_excel('MultinomialNB probability all + замена обл.  analyzer=char, ngram_range=(3, 4).xlsx')"
   ]
  }
 ],
 "metadata": {
  "kernelspec": {
   "display_name": "Python 3",
   "language": "python",
   "name": "python3"
  },
  "language_info": {
   "codemirror_mode": {
    "name": "ipython",
    "version": 3
   },
   "file_extension": ".py",
   "mimetype": "text/x-python",
   "name": "python",
   "nbconvert_exporter": "python",
   "pygments_lexer": "ipython3",
   "version": "3.8.8"
  },
  "toc": {
   "base_numbering": 1,
   "nav_menu": {
    "height": "113px",
    "width": "210px"
   },
   "number_sections": true,
   "sideBar": true,
   "skip_h1_title": false,
   "title_cell": "Table of Contents",
   "title_sidebar": "Contents",
   "toc_cell": false,
   "toc_position": {
    "height": "calc(100% - 180px)",
    "left": "10px",
    "top": "150px",
    "width": "384px"
   },
   "toc_section_display": true,
   "toc_window_display": true
  }
 },
 "nbformat": 4,
 "nbformat_minor": 5
}
